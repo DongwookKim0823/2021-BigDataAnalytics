{
 "cells": [
  {
   "cell_type": "markdown",
   "id": "790e6531",
   "metadata": {},
   "source": [
    "# (1) X, Y 데이터를 생성"
   ]
  },
  {
   "cell_type": "code",
   "execution_count": 1,
   "id": "93b9aa73",
   "metadata": {},
   "outputs": [],
   "source": [
    "from sklearn.datasets import make_classification\n",
    "\n",
    "X, Y = make_classification(n_samples=100, n_features=2, n_informative=2, n_redundant=0)"
   ]
  },
  {
   "cell_type": "markdown",
   "id": "1883d94e",
   "metadata": {},
   "source": [
    "# (2) X의 평균과 표준편차 계산해서 출력"
   ]
  },
  {
   "cell_type": "code",
   "execution_count": 2,
   "id": "f444bba0",
   "metadata": {},
   "outputs": [
    {
     "data": {
      "text/plain": [
       "'평균 : 0.016110244291806013, 표준편차 : 1.1489432612852546'"
      ]
     },
     "execution_count": 2,
     "metadata": {},
     "output_type": "execute_result"
    }
   ],
   "source": [
    "'평균 : {}, 표준편차 : {}'.format(X.mean(), X.std())"
   ]
  },
  {
   "cell_type": "markdown",
   "id": "7802286b",
   "metadata": {},
   "source": [
    "#  (3) 그래프 작성"
   ]
  },
  {
   "cell_type": "code",
   "execution_count": 3,
   "id": "a06653a9",
   "metadata": {},
   "outputs": [
    {
     "data": {
      "image/png": "[encoded data removed]",
      "text/plain": [
       "<Figure size 432x288 with 1 Axes>"
      ]
     },
     "metadata": {
      "needs_background": "light"
     },
     "output_type": "display_data"
    }
   ],
   "source": [
    "import matplotlib.pyplot as plt\n",
    "\n",
    "plt.scatter(X[:,0], X[:,1], marker='o', c=Y)\n",
    "plt.show()"
   ]
  },
  {
   "cell_type": "markdown",
   "id": "52c3ad41",
   "metadata": {},
   "source": [
    "# (4) 훈련데이터, 테스트데이터 3:1로 분리"
   ]
  },
  {
   "cell_type": "code",
   "execution_count": 4,
   "id": "84dd46be",
   "metadata": {},
   "outputs": [],
   "source": [
    "from sklearn.model_selection import train_test_split\n",
    "\n",
    "X_train, X_test, Y_train, Y_test = train_test_split(X, Y, test_size=0.25)"
   ]
  },
  {
   "cell_type": "markdown",
   "id": "6b884f16",
   "metadata": {},
   "source": [
    "# (5) 훈련데이터에 대하여 BernoulliNB 모델링"
   ]
  },
  {
   "cell_type": "code",
   "execution_count": 5,
   "id": "e2d1bec5",
   "metadata": {},
   "outputs": [
    {
     "data": {
      "text/plain": [
       "BernoulliNB()"
      ]
     },
     "execution_count": 5,
     "metadata": {},
     "output_type": "execute_result"
    }
   ],
   "source": [
    "from sklearn.naive_bayes import BernoulliNB\n",
    "\n",
    "bnb = BernoulliNB(binarize=0.0)\n",
    "bnb.fit(X_train, Y_train)"
   ]
  },
  {
   "cell_type": "markdown",
   "id": "4fccdb27",
   "metadata": {},
   "source": [
    "# (6) 테스트데이터에 대하여 예측값을 출력"
   ]
  },
  {
   "cell_type": "code",
   "execution_count": 6,
   "id": "6bbe3aec",
   "metadata": {},
   "outputs": [
    {
     "data": {
      "text/plain": [
       "'예측값 : [1 0 1 0 1 0 1 0 1 0 1 0 1 0 0 0 0 0 0 1 0 1 1 1 1], 실제값 : [1 0 1 1 1 1 1 0 1 0 1 0 1 0 0 0 0 0 0 0 1 1 1 1 1]'"
      ]
     },
     "execution_count": 6,
     "metadata": {},
     "output_type": "execute_result"
    }
   ],
   "source": [
    "'예측값 : {}, 실제값 : {}'.format(bnb.predict(X_test), Y_test)"
   ]
  },
  {
   "cell_type": "markdown",
   "id": "fa3da71e",
   "metadata": {},
   "source": [
    "# (7) 테스트데이터에 대하여 예측과 실제의 정확성 출력\n",
    "\n"
   ]
  },
  {
   "cell_type": "code",
   "execution_count": 7,
   "id": "43441f34",
   "metadata": {},
   "outputs": [
    {
     "data": {
      "text/plain": [
       "0.84"
      ]
     },
     "execution_count": 7,
     "metadata": {},
     "output_type": "execute_result"
    }
   ],
   "source": [
    "bnb.score(X_test, Y_test)"
   ]
  }
 ],
 "metadata": {
  "kernelspec": {
   "display_name": "Python 3",
   "language": "python",
   "name": "python3"
  },
  "language_info": {
   "codemirror_mode": {
    "name": "ipython",
    "version": 3
   },
   "file_extension": ".py",
   "mimetype": "text/x-python",
   "name": "python",
   "nbconvert_exporter": "python",
   "pygments_lexer": "ipython3",
   "version": "3.8.8"
  }
 },
 "nbformat": 4,
 "nbformat_minor": 5
}
