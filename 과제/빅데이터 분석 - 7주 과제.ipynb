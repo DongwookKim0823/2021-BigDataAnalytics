{
 "cells": [
  {
   "cell_type": "code",
   "execution_count": 1,
   "id": "161ee283",
   "metadata": {},
   "outputs": [],
   "source": [
    "import os\n",
    "os.environ[\"PYSPARK_PYTHON\"]=\"C:\\\\Anaconda3\\\\python.exe\"\n",
    "os.environ[\"PYSPARK_DRIVER_PYTHON\"]=\"C:\\\\Anaconda3\\\\python.exe\""
   ]
  },
  {
   "cell_type": "code",
   "execution_count": 2,
   "id": "73aba3c6",
   "metadata": {},
   "outputs": [],
   "source": [
    "import pyspark\n",
    "\n",
    "myConf=pyspark.SparkConf()\n",
    "spark = pyspark.sql.SparkSession\\\n",
    "    .builder\\\n",
    "    .master(\"local\")\\\n",
    "    .appName(\"myApp\")\\\n",
    "    .config(conf=myConf)\\\n",
    "    .getOrCreate()"
   ]
  },
  {
   "cell_type": "markdown",
   "id": "c92ce25d",
   "metadata": {},
   "source": [
    "### 1-1 성적데이터로 DataFrame을 생성"
   ]
  },
  {
   "cell_type": "code",
   "execution_count": 3,
   "id": "a248707b",
   "metadata": {
    "scrolled": true
   },
   "outputs": [],
   "source": [
    "marks=[\n",
    "    \"김하나, English, 100\",\n",
    "    \"김하나, Math, 80\",\n",
    "    \"임하나, English, 70\",\n",
    "    \"임하나, Math, 100\",\n",
    "    \"김갑돌, English, 82.3\",\n",
    "    \"김갑돌, Math, 98.5\"\n",
    "]\n",
    "\n",
    "score = spark.sparkContext.parallelize(marks)\n",
    "scores = score.map(lambda line: line.split(\",\"))\n",
    "\n",
    "scores = scores.toDF()\n",
    "\n",
    "scores = scores.withColumn(\"name\", scores._1.cast(\"string\"))\\\n",
    "                .withColumn(\"subject\", scores['_2'].cast(\"string\"))\\\n",
    "                .withColumn(\"mark\", scores['_3'].cast(\"double\"))\n",
    "\n",
    "\n",
    "scores = scores.drop('_1').drop('_2').drop('_3')"
   ]
  },
  {
   "cell_type": "code",
   "execution_count": 4,
   "id": "a07a3944",
   "metadata": {},
   "outputs": [
    {
     "name": "stdout",
     "output_type": "stream",
     "text": [
      "root\n",
      " |-- name: string (nullable = true)\n",
      " |-- subject: string (nullable = true)\n",
      " |-- mark: double (nullable = true)\n",
      "\n",
      "+------+--------+-----+\n",
      "|  name| subject| mark|\n",
      "+------+--------+-----+\n",
      "|김하나| English|100.0|\n",
      "|김하나|    Math| 80.0|\n",
      "|임하나| English| 70.0|\n",
      "|임하나|    Math|100.0|\n",
      "|김갑돌| English| 82.3|\n",
      "|김갑돌|    Math| 98.5|\n",
      "+------+--------+-----+\n",
      "\n"
     ]
    }
   ],
   "source": [
    "scores.printSchema()\n",
    "scores.show()"
   ]
  },
  {
   "cell_type": "markdown",
   "id": "c084a27b",
   "metadata": {},
   "source": [
    "### 1-2 zscore 컬럼을 생성"
   ]
  },
  {
   "cell_type": "code",
   "execution_count": 5,
   "id": "3242ba9b",
   "metadata": {},
   "outputs": [],
   "source": [
    "from pyspark.sql import functions as F\n",
    "\n",
    "mean_std = scores.select(F.mean('mark'), F.stddev('mark')).collect()\n",
    "\n",
    "mean_scores = mean_std[0][0]\n",
    "std_scores = mean_std[0][1]"
   ]
  },
  {
   "cell_type": "code",
   "execution_count": 6,
   "id": "32c8522d",
   "metadata": {},
   "outputs": [],
   "source": [
    "from pyspark.sql.types import FloatType\n",
    "\n",
    "zscore = F.udf(lambda x: (x-mean_scores)/std_scores, FloatType())"
   ]
  },
  {
   "cell_type": "code",
   "execution_count": 7,
   "id": "c1a766df",
   "metadata": {},
   "outputs": [],
   "source": [
    "scores = scores.withColumn(\"zscore\", zscore(scores['mark']))"
   ]
  },
  {
   "cell_type": "code",
   "execution_count": 8,
   "id": "0eabfc53",
   "metadata": {},
   "outputs": [
    {
     "name": "stdout",
     "output_type": "stream",
     "text": [
      "+------+--------+-----+-----------+\n",
      "|  name| subject| mark|     zscore|\n",
      "+------+--------+-----+-----------+\n",
      "|김하나| English|100.0| 0.90201485|\n",
      "|김하나|    Math| 80.0|-0.66217273|\n",
      "|임하나| English| 70.0| -1.4442666|\n",
      "|임하나|    Math|100.0| 0.90201485|\n",
      "|김갑돌| English| 82.3|-0.48229116|\n",
      "|김갑돌|    Math| 98.5| 0.78470075|\n",
      "+------+--------+-----+-----------+\n",
      "\n"
     ]
    }
   ],
   "source": [
    "scores.show()"
   ]
  },
  {
   "cell_type": "markdown",
   "id": "7961a7f2",
   "metadata": {},
   "source": [
    "### 1-3 cdf 컬럼을 생성"
   ]
  },
  {
   "cell_type": "code",
   "execution_count": 9,
   "id": "7b623c4f",
   "metadata": {},
   "outputs": [],
   "source": [
    "from scipy.stats import norm\n",
    "\n",
    "cdf_cal = F.udf(lambda x: float(norm.cdf(x)))\n",
    "scores = scores.withColumn(\"cdf\", cdf_cal(scores['zscore']))"
   ]
  },
  {
   "cell_type": "code",
   "execution_count": 10,
   "id": "1db3d99d",
   "metadata": {},
   "outputs": [
    {
     "name": "stdout",
     "output_type": "stream",
     "text": [
      "+------+--------+-----+-----------+-------------------+\n",
      "|  name| subject| mark|     zscore|                cdf|\n",
      "+------+--------+-----+-----------+-------------------+\n",
      "|김하나| English|100.0| 0.90201485| 0.8164755032306112|\n",
      "|김하나|    Math| 80.0|-0.66217273|0.25393026395894597|\n",
      "|임하나| English| 70.0| -1.4442666|0.07433201139097229|\n",
      "|임하나|    Math|100.0| 0.90201485| 0.8164755032306112|\n",
      "|김갑돌| English| 82.3|-0.48229116|0.31479956212721427|\n",
      "|김갑돌|    Math| 98.5| 0.78470075| 0.7836854804484268|\n",
      "+------+--------+-----+-----------+-------------------+\n",
      "\n"
     ]
    }
   ],
   "source": [
    "scores.show()"
   ]
  }
 ],
 "metadata": {
  "kernelspec": {
   "display_name": "Python 3",
   "language": "python",
   "name": "python3"
  },
  "language_info": {
   "codemirror_mode": {
    "name": "ipython",
    "version": 3
   },
   "file_extension": ".py",
   "mimetype": "text/x-python",
   "name": "python",
   "nbconvert_exporter": "python",
   "pygments_lexer": "ipython3",
   "version": "3.8.8"
  }
 },
 "nbformat": 4,
 "nbformat_minor": 5
}
