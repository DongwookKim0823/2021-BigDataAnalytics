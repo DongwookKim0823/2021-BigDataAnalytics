{
 "cells": [
  {
   "cell_type": "code",
   "execution_count": 1,
   "id": "b446ca21",
   "metadata": {},
   "outputs": [],
   "source": [
    "import os\n",
    "os.environ[\"PYSPARK_PYTHON\"]=\"C:\\\\Anaconda3\\\\python.exe\"\n",
    "os.environ[\"PYSPARK_DRIVER_PYTHON\"]=\"C:\\\\Anaconda3\\\\python.exe\""
   ]
  },
  {
   "cell_type": "code",
   "execution_count": 2,
   "id": "803a865d",
   "metadata": {},
   "outputs": [],
   "source": [
    "import pyspark\n",
    "\n",
    "myConf=pyspark.SparkConf()\n",
    "spark = pyspark.sql.SparkSession\\\n",
    "    .builder\\\n",
    "    .master(\"local\")\\\n",
    "    .appName(\"myApp\")\\\n",
    "    .config(conf=myConf)\\\n",
    "    .getOrCreate()"
   ]
  },
  {
   "cell_type": "code",
   "execution_count": 3,
   "id": "be9da71b",
   "metadata": {},
   "outputs": [],
   "source": [
    "myDf = spark\\\n",
    "        .read.format('com.databricks.spark.csv')\\\n",
    "        .options(header='true', inferschema='true')\\\n",
    "        .load(os.path.join('data','서울특별시_공공자전거 일별 대여건수_(2018_2019.03).csv'))"
   ]
  },
  {
   "cell_type": "code",
   "execution_count": 4,
   "id": "9a0963fc",
   "metadata": {},
   "outputs": [
    {
     "name": "stdout",
     "output_type": "stream",
     "text": [
      "+----------+-----+\n",
      "|      date|count|\n",
      "+----------+-----+\n",
      "|2018-01-01| 4950|\n",
      "|2018-01-02| 7136|\n",
      "|2018-01-03| 7156|\n",
      "|2018-01-04| 7102|\n",
      "|2018-01-05| 7705|\n",
      "+----------+-----+\n",
      "only showing top 5 rows\n",
      "\n"
     ]
    }
   ],
   "source": [
    "myDf.show(5)"
   ]
  },
  {
   "cell_type": "markdown",
   "id": "2935081d",
   "metadata": {},
   "source": [
    "### 문제 1-1: 년도별 대여건수 합계"
   ]
  },
  {
   "cell_type": "code",
   "execution_count": 5,
   "id": "0ce224fd",
   "metadata": {},
   "outputs": [],
   "source": [
    "myDf = myDf.withColumn(\"year\",myDf.date.substr(1, 4))\n",
    "myDf = myDf.withColumn(\"month\",myDf.date.substr(6, 2))"
   ]
  },
  {
   "cell_type": "code",
   "execution_count": 6,
   "id": "99644fb7",
   "metadata": {},
   "outputs": [
    {
     "name": "stdout",
     "output_type": "stream",
     "text": [
      "+----+----------+\n",
      "|year|sum(count)|\n",
      "+----+----------+\n",
      "|2019|   1871935|\n",
      "|2018|  10124874|\n",
      "+----+----------+\n",
      "\n"
     ]
    }
   ],
   "source": [
    "myDf.groupBy('year').agg({\"count\":\"sum\"}).show()"
   ]
  },
  {
   "cell_type": "markdown",
   "id": "0c12d49b",
   "metadata": {},
   "source": [
    "### 문제 1-2: 년도별, 월별 대여건수 합계"
   ]
  },
  {
   "cell_type": "code",
   "execution_count": 7,
   "id": "9e093f34",
   "metadata": {},
   "outputs": [
    {
     "name": "stdout",
     "output_type": "stream",
     "text": [
      "+----+------+------+------+------+------+-------+-------+-------+-------+-------+------+------+\n",
      "|year|    01|    02|    03|    04|    05|     06|     07|     08|     09|     10|    11|    12|\n",
      "+----+------+------+------+------+------+-------+-------+-------+-------+-------+------+------+\n",
      "|2018|164367|168741|462661|687885|965609|1207123|1100015|1037505|1447993|1420621|961532|500822|\n",
      "|2019|495573|471543|904819|  null|  null|   null|   null|   null|   null|   null|  null|  null|\n",
      "+----+------+------+------+------+------+-------+-------+-------+-------+-------+------+------+\n",
      "\n"
     ]
    }
   ],
   "source": [
    "myDf.groupBy('year').pivot('month').agg({\"count\":\"sum\"}).orderBy(\"year\").show()"
   ]
  },
  {
   "cell_type": "markdown",
   "id": "65310623",
   "metadata": {},
   "source": [
    "### 문제 1-3: 년도별, 월별 대여건수 그래프"
   ]
  },
  {
   "cell_type": "code",
   "execution_count": 8,
   "id": "3a265ff9",
   "metadata": {},
   "outputs": [],
   "source": [
    "_myDf = myDf.withColumn(\"year-month\",myDf.date.substr(1, 7))"
   ]
  },
  {
   "cell_type": "code",
   "execution_count": 9,
   "id": "8ec0084f",
   "metadata": {},
   "outputs": [],
   "source": [
    "data_2018 = _myDf.filter(_myDf['year'] == 2018).groupBy('year-month').agg({\"count\":\"sum\"}).orderBy('year-month')\n",
    "data_2019 = _myDf.filter(_myDf['year'] == 2019).groupBy('year-month').agg({\"count\":\"sum\"}).orderBy('year-month')"
   ]
  },
  {
   "cell_type": "code",
   "execution_count": 10,
   "id": "29da321b",
   "metadata": {},
   "outputs": [],
   "source": [
    "month = [1,2,3,4,5,6,7,8,9,10,11,12]\n",
    "data18 = data_2018.rdd.map(lambda fields:fields[1]).collect()\n",
    "data19 = data_2019.rdd.map(lambda fields:fields[1]).collect()"
   ]
  },
  {
   "cell_type": "code",
   "execution_count": 11,
   "id": "acc55a75",
   "metadata": {},
   "outputs": [
    {
     "data": {
      "image/png": "[encoded data removed]",
      "text/plain": [
       "<Figure size 432x288 with 1 Axes>"
      ]
     },
     "metadata": {
      "needs_background": "light"
     },
     "output_type": "display_data"
    }
   ],
   "source": [
    "%matplotlib inline\n",
    "import numpy as np\n",
    "import matplotlib.pyplot as plt\n",
    "\n",
    "data19 = np.append(data19,[None]*9)\n",
    "\n",
    "plt.plot(np.array(month), np.array(data18))\n",
    "plt.plot(np.array(month), np.array(data19))\n",
    "plt.legend(['2018', '2019'])\n",
    "plt.show()"
   ]
  }
 ],
 "metadata": {
  "kernelspec": {
   "display_name": "Python 3",
   "language": "python",
   "name": "python3"
  },
  "language_info": {
   "codemirror_mode": {
    "name": "ipython",
    "version": 3
   },
   "file_extension": ".py",
   "mimetype": "text/x-python",
   "name": "python",
   "nbconvert_exporter": "python",
   "pygments_lexer": "ipython3",
   "version": "3.8.8"
  }
 },
 "nbformat": 4,
 "nbformat_minor": 5
}
