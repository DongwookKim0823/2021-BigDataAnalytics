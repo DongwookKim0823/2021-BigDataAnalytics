{
 "cells": [
  {
   "cell_type": "code",
   "execution_count": 1,
   "id": "bc95b672",
   "metadata": {},
   "outputs": [],
   "source": [
    "import os\n",
    "os.environ[\"PYSPARK_PYTHON\"]=\"C:\\\\Anaconda3\\\\python.exe\"\n",
    "os.environ[\"PYSPARK_DRIVER_PYTHON\"]=\"C:\\\\Anaconda3\\\\python.exe\""
   ]
  },
  {
   "cell_type": "code",
   "execution_count": 2,
   "id": "5b4bbd99",
   "metadata": {},
   "outputs": [],
   "source": [
    "import pyspark\n",
    "\n",
    "myConf=pyspark.SparkConf()\n",
    "spark = pyspark.sql.SparkSession\\\n",
    "    .builder\\\n",
    "    .master(\"local\")\\\n",
    "    .appName(\"myApp\")\\\n",
    "    .config(conf=myConf)\\\n",
    "    .getOrCreate()"
   ]
  },
  {
   "cell_type": "code",
   "execution_count": 3,
   "id": "20ec00ab",
   "metadata": {},
   "outputs": [],
   "source": [
    "score = [\n",
    "    \"'김하나','English', 100\",\n",
    "    \"'김하나','Math', 80\",\n",
    "    \"'임하나','English', 70\",\n",
    "    \"'임하나','Math', 100\",\n",
    "    \"'김갑돌','English', 82.3\",\n",
    "    \"'김갑돌','Math', 98.5\"\n",
    "]\n",
    "\n",
    "scores = spark.sparkContext.parallelize(score)"
   ]
  },
  {
   "cell_type": "code",
   "execution_count": 4,
   "id": "a14d9deb",
   "metadata": {},
   "outputs": [
    {
     "data": {
      "text/plain": [
       "[\"'김하나','English', 100\",\n",
       " \"'김하나','Math', 80\",\n",
       " \"'임하나','English', 70\",\n",
       " \"'임하나','Math', 100\",\n",
       " \"'김갑돌','English', 82.3\",\n",
       " \"'김갑돌','Math', 98.5\"]"
      ]
     },
     "execution_count": 4,
     "metadata": {},
     "output_type": "execute_result"
    }
   ],
   "source": [
    "scores.collect()"
   ]
  },
  {
   "cell_type": "markdown",
   "id": "ba694e06",
   "metadata": {},
   "source": [
    "# 문제 3-1"
   ]
  },
  {
   "cell_type": "code",
   "execution_count": 5,
   "id": "ecd1dc38",
   "metadata": {},
   "outputs": [],
   "source": [
    "_scoresKey = scores.map(lambda x:x.split(',')).map(lambda x: (x[0],float(x[2])))\n",
    "scoresKey = _scoresKey.combineByKey(lambda value: (value,1),\n",
    "                                    lambda x,value: (x[0]+value, x[1]+1),\n",
    "                                    lambda x,y: (x[0]+y[0], x[1]+y[1]))"
   ]
  },
  {
   "cell_type": "code",
   "execution_count": 6,
   "id": "615b9e97",
   "metadata": {},
   "outputs": [
    {
     "name": "stdout",
     "output_type": "stream",
     "text": [
      "'김하나' 180.0\n",
      "'임하나' 170.0\n",
      "'김갑돌' 180.8\n"
     ]
    }
   ],
   "source": [
    "for i in scoresKey.collect():\n",
    "    print (i[0], i[1][0])"
   ]
  },
  {
   "cell_type": "markdown",
   "id": "b8e2437d",
   "metadata": {},
   "source": [
    "# 문제 3-2"
   ]
  },
  {
   "cell_type": "code",
   "execution_count": 7,
   "id": "f94ffa0e",
   "metadata": {},
   "outputs": [],
   "source": [
    "_scoresKey = scores.map(lambda x:x.split(',')).map(lambda x: (x[1],float(x[2])))\n",
    "scoresKey = _scoresKey.combineByKey(lambda value: (value,1),\n",
    "                                    lambda x,value: (x[0]+value, x[1]+1),\n",
    "                                    lambda x,y: (x[0]+y[0], x[1]+y[1]))"
   ]
  },
  {
   "cell_type": "code",
   "execution_count": 8,
   "id": "91bc5af0",
   "metadata": {},
   "outputs": [
    {
     "name": "stdout",
     "output_type": "stream",
     "text": [
      "'English' 252.3\n",
      "'Math' 278.5\n"
     ]
    }
   ],
   "source": [
    "for i in scoresKey.collect():\n",
    "    print (i[0], i[1][0])"
   ]
  },
  {
   "cell_type": "markdown",
   "id": "743e911b",
   "metadata": {},
   "source": [
    "# 문제 3-3"
   ]
  },
  {
   "cell_type": "code",
   "execution_count": 9,
   "id": "28dd93f8",
   "metadata": {},
   "outputs": [],
   "source": [
    "_scoresKey = scores.map(lambda x:x.split(',')).map(lambda x: (x[0],float(x[2])))\n",
    "scoresKey = _scoresKey.combineByKey(lambda value: (value,1),\n",
    "                                    lambda x,value: (x[0]+value, x[1]+1),\n",
    "                                    lambda x,y: (x[0]+y[0], x[1]+y[1]))"
   ]
  },
  {
   "cell_type": "code",
   "execution_count": 10,
   "id": "17f81515",
   "metadata": {},
   "outputs": [
    {
     "name": "stdout",
     "output_type": "stream",
     "text": [
      "'김하나' (180.0, 2)\n",
      "'임하나' (170.0, 2)\n",
      "'김갑돌' (180.8, 2)\n"
     ]
    }
   ],
   "source": [
    "for k,v in scoresKey.collect():\n",
    "    print(k,v)"
   ]
  },
  {
   "cell_type": "markdown",
   "id": "d7c56de2",
   "metadata": {},
   "source": [
    "# 문제 3-4"
   ]
  },
  {
   "cell_type": "code",
   "execution_count": 11,
   "id": "21f2d7c8",
   "metadata": {},
   "outputs": [
    {
     "name": "stdout",
     "output_type": "stream",
     "text": [
      "'김하나' 90.0\n",
      "'임하나' 85.0\n",
      "'김갑돌' 90.4\n"
     ]
    }
   ],
   "source": [
    "avgScore = scoresKey.map(lambda x: (x[0],x[1][0]/x[1][1]))\n",
    "for k,v in avgScore.collect():\n",
    "    print(k,v)"
   ]
  }
 ],
 "metadata": {
  "kernelspec": {
   "display_name": "Python 3",
   "language": "python",
   "name": "python3"
  },
  "language_info": {
   "codemirror_mode": {
    "name": "ipython",
    "version": 3
   },
   "file_extension": ".py",
   "mimetype": "text/x-python",
   "name": "python",
   "nbconvert_exporter": "python",
   "pygments_lexer": "ipython3",
   "version": "3.8.8"
  }
 },
 "nbformat": 4,
 "nbformat_minor": 5
}
