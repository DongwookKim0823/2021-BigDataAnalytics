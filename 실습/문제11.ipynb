{
 "cells": [
  {
   "cell_type": "markdown",
   "id": "b60ae46c",
   "metadata": {},
   "source": [
    "# 문제 11: 공공데이터포털 서울특별시교육청 공공도서관 소장도서정보"
   ]
  },
  {
   "cell_type": "code",
   "execution_count": 1,
   "id": "ac63f787",
   "metadata": {},
   "outputs": [],
   "source": [
    "import os\n",
    "import src.mylib\n",
    "\n",
    "keyPath=os.path.join(os.getcwd(), 'src', 'key.properties')\n",
    "key=src.mylib.getKey(keyPath)"
   ]
  },
  {
   "cell_type": "markdown",
   "id": "f774c8ef",
   "metadata": {},
   "source": [
    "### 요청인자"
   ]
  },
  {
   "cell_type": "code",
   "execution_count": 2,
   "id": "cb2ba418",
   "metadata": {},
   "outputs": [],
   "source": [
    "import urllib\n",
    "\n",
    "_d=dict()\n",
    "_d['title']='도둑'\n",
    "_d['manageCd']='MA'\n",
    "_d['numOfRows']='5'\n",
    "_d['pageNo']='2'\n",
    "params2 = urllib.parse.urlencode(_d)"
   ]
  },
  {
   "cell_type": "code",
   "execution_count": 3,
   "id": "82de95d3",
   "metadata": {},
   "outputs": [
    {
     "name": "stdout",
     "output_type": "stream",
     "text": [
      "title=%EB%8F%84%EB%91%91&manageCd=MA&numOfRows=5&pageNo=2\n"
     ]
    }
   ],
   "source": [
    "print(params2)"
   ]
  },
  {
   "cell_type": "code",
   "execution_count": 4,
   "id": "0d3083c4",
   "metadata": {},
   "outputs": [],
   "source": [
    "params='?'+'serviceKey='+key['gokr']+'&'+params2"
   ]
  },
  {
   "cell_type": "markdown",
   "id": "e38456b4",
   "metadata": {},
   "source": [
    "### url"
   ]
  },
  {
   "cell_type": "code",
   "execution_count": 5,
   "id": "50646db9",
   "metadata": {},
   "outputs": [],
   "source": [
    "_url = 'http://openapi-lib.sen.go.kr/openapi/service/lib/openApi'\n",
    "url=urllib.parse.urljoin(_url,params)"
   ]
  },
  {
   "cell_type": "code",
   "execution_count": 6,
   "id": "4fbd5b21",
   "metadata": {
    "scrolled": true
   },
   "outputs": [
    {
     "name": "stdout",
     "output_type": "stream",
     "text": [
      "http://openapi-lib.sen.go.kr/openapi/service/lib/openApi?serviceKey=8Bx4C1%2Bbogiu3i0M5k7aqOf%2BTA5yCWK%2BFDI7nTSJ0oAhDj1NC5CtbI1TMgFmnpuZxJ9LBoCScqBhuw5sul2tmQ%3D%3D&title=%EB%8F%84%EB%91%91&manageCd=MA&numOfRows=5&pageNo=2\n"
     ]
    }
   ],
   "source": [
    "print(url)"
   ]
  },
  {
   "cell_type": "markdown",
   "id": "d1647435",
   "metadata": {},
   "source": [
    "### url 요청"
   ]
  },
  {
   "cell_type": "code",
   "execution_count": 7,
   "id": "b193d1ff",
   "metadata": {},
   "outputs": [],
   "source": [
    "import requests\n",
    "\n",
    "data=requests.get(url).text"
   ]
  },
  {
   "cell_type": "code",
   "execution_count": 8,
   "id": "06d8b7a4",
   "metadata": {},
   "outputs": [
    {
     "name": "stdout",
     "output_type": "stream",
     "text": [
      "<?xml version=\"1.0\" encoding=\"UTF-8\" standalone=\"yes\"?><response><header><resultCode>00</resultCode><resultMsg>NORMAL SERVICE.</resultMsg></header><body><items><item><appendixYn>N</appendixYn><author>송아주 글;한상언 그림</author><bookKey>5388757197</bookKey><callNo>유 813.5-ㅅ566ㄷ</callNo><controlNo>JMO201800117</controlNo><isbn>9791195339785</isbn><libName>강남도서관</libName><manageCode>MA</manageCode><pubYear>2018</pubYear><publisher>도토리나무</publisher><regNo>JUA000066397</regNo><rnum>6</rnum><shelfLocName>[강남]1층 도담놀이터</shelfLocName><speciesKey>5388757195</speciesKey><title>도둑 떼와 꾀 많은 꼬마</title></item><item><appendixYn>N</appendixYn><author>최용주 지음</author><bookKey>5210340360</bookKey><callNo>199.5-ㅊ574ㄱ</callNo><controlNo>KMO201304671</controlNo><isbn>9788960652866</isbn><libName>강남도서관</libName><manageCode>MA</manageCode><pubYear>2013</pubYear><publisher>공감</publisher><regNo>EMA000223336</regNo><rnum>7</rnum><shelfLocName>[강남]4서고(종합실직원문의)</shelfLocName><speciesKey>5210340357</speciesKey><title>가슴청년, 희망을 도둑맞지 마라  : 청년실업 시대, 인생 이모작 시대 자신의 성공 노하우로 방향을 제시하는 느림보 멘토, 최용주 교수의 인생 코칭</title></item><item><appendixYn>N</appendixYn><author>아르노 알메라 글;프레데릭 브나글리아 그림;하정희 옮김</author><bookKey>5108622464</bookKey><callNo>아 808.91-ㅅ116ㄱ-1-13</callNo><controlNo>JMO201000978</controlNo><isbn>9788934933618</isbn><libName>강남도서관</libName><manageCode>MA</manageCode><pubYear>2009</pubYear><publisher>주니어김영사 :김영사</publisher><regNo>JUA000039670</regNo><rnum>8</rnum><shelfLocName>[강남]1층 어린이실</shelfLocName><speciesKey>5108622461</speciesKey><title>명랑 공주와 상냥한 도둑</title><vol>1-13</vol></item><item><appendixYn>N</appendixYn><author>아르노 알메라 글;프레데릭 브나글리아 그림;하정희 옮김</author><bookKey>5108622465</bookKey><callNo>아 808.91-ㅅ116ㄱ-1-13=2</callNo><controlNo>JMO201000978</controlNo><isbn>9788934933618</isbn><libName>강남도서관</libName><manageCode>MA</manageCode><pubYear>2009</pubYear><publisher>주니어김영사 :김영사</publisher><regNo>JUA000039671</regNo><rnum>9</rnum><shelfLocName>[강남]1층 어린이실</shelfLocName><speciesKey>5108622461</speciesKey><title>명랑 공주와 상냥한 도둑</title><vol>1-13</vol></item><item><appendixYn>N</appendixYn><author>니나 파워 지음 ;김성준 옮김</author><bookKey>5397797826</bookKey><callNo>337.2-ㅍ21ㄷ</callNo><controlNo>KMO201802222</controlNo><isbn>9791196007362</isbn><libName>강남도서관</libName><manageCode>MA</manageCode><pubYear>2018</pubYear><publisher>에디투스</publisher><regNo>EMA000259099</regNo><rnum>10</rnum><shelfLocName>[강남]4층 종합자료실</shelfLocName><speciesKey>5397797824</speciesKey><title>도둑맞은 페미니즘  : 일차원적 여성</title></item></items><numOfRows>5</numOfRows><pageNo>2</pageNo><totalCount>175</totalCount></body></response>\n"
     ]
    }
   ],
   "source": [
    "print(data)"
   ]
  }
 ],
 "metadata": {
  "kernelspec": {
   "display_name": "Python 3",
   "language": "python",
   "name": "python3"
  },
  "language_info": {
   "codemirror_mode": {
    "name": "ipython",
    "version": 3
   },
   "file_extension": ".py",
   "mimetype": "text/x-python",
   "name": "python",
   "nbconvert_exporter": "python",
   "pygments_lexer": "ipython3",
   "version": "3.8.8"
  }
 },
 "nbformat": 4,
 "nbformat_minor": 5
}
