{
 "cells": [
  {
   "cell_type": "markdown",
   "id": "f1e1bbb9",
   "metadata": {},
   "source": [
    "# 문제 4: 서울시 지하철역별 월별 승하차인원 구하기"
   ]
  },
  {
   "cell_type": "markdown",
   "id": "33b25ae5",
   "metadata": {},
   "source": [
    "### 인증키"
   ]
  },
  {
   "cell_type": "code",
   "execution_count": 1,
   "id": "1b8118c6",
   "metadata": {},
   "outputs": [],
   "source": [
    "import os\n",
    "from src import mylib\n",
    "\n",
    "keyPath=os.path.join(os.getcwd(), 'src', 'key.properties')\n",
    "key=mylib.getKey(keyPath)"
   ]
  },
  {
   "cell_type": "markdown",
   "id": "f8007fd7",
   "metadata": {},
   "source": [
    "### 요청인자"
   ]
  },
  {
   "cell_type": "code",
   "execution_count": 2,
   "id": "16832f3a",
   "metadata": {},
   "outputs": [],
   "source": [
    "_url='http://openAPI.seoul.go.kr:8088'\n",
    "_key=str(key['dataseoul'])\n",
    "_type='json'\n",
    "_service='CardSubwayStatsNew'\n",
    "_start_index=1\n",
    "_end_index=5\n",
    "_use_dt='20210801'"
   ]
  },
  {
   "cell_type": "markdown",
   "id": "b8a7e6a6",
   "metadata": {},
   "source": [
    "### url 만들기"
   ]
  },
  {
   "cell_type": "code",
   "execution_count": 3,
   "id": "9212f936",
   "metadata": {},
   "outputs": [],
   "source": [
    "_api=os.path.join(_url,_key,_type,_service,str(_start_index),str(_end_index),_use_dt)"
   ]
  },
  {
   "cell_type": "code",
   "execution_count": 4,
   "id": "f9cf7507",
   "metadata": {},
   "outputs": [
    {
     "name": "stdout",
     "output_type": "stream",
     "text": [
      "http://openAPI.seoul.go.kr:8088\\6f4579784d6b647739305841767874\\json\\CardSubwayStatsNew\\1\\5\\20210801\n"
     ]
    }
   ],
   "source": [
    "print(_api)"
   ]
  },
  {
   "cell_type": "markdown",
   "id": "2c492a00",
   "metadata": {},
   "source": [
    "### url 호출"
   ]
  },
  {
   "cell_type": "code",
   "execution_count": 5,
   "id": "92809b45",
   "metadata": {},
   "outputs": [],
   "source": [
    "import requests\n",
    "response = requests.get(_api)"
   ]
  },
  {
   "cell_type": "markdown",
   "id": "1e797e76",
   "metadata": {},
   "source": [
    "### json 파싱"
   ]
  },
  {
   "cell_type": "code",
   "execution_count": null,
   "id": "6286e33d",
   "metadata": {},
   "outputs": [],
   "source": [
    "sub = response.json()\n",
    "print(sub)"
   ]
  },
  {
   "cell_type": "code",
   "execution_count": null,
   "id": "42e615b3",
   "metadata": {},
   "outputs": [],
   "source": [
    "sub['CardSubwayStatsNew']['row']"
   ]
  },
  {
   "cell_type": "code",
   "execution_count": null,
   "id": "99bc48c5",
   "metadata": {},
   "outputs": [],
   "source": [
    "for e in sub['CardSubwayStatsNew']['row']:\n",
    "    print (\"{0:5s}\\t{1:10s}\\t{2:9.1f}\\t{3:9.1f}\".format(e['LINE_NUM'],e['SUB_STA_NM'],e['RIDE_PASGR_NUM'],e['ALIGHT_PASGR_NUM']))"
   ]
  }
 ],
 "metadata": {
  "kernelspec": {
   "display_name": "Python 3",
   "language": "python",
   "name": "python3"
  },
  "language_info": {
   "codemirror_mode": {
    "name": "ipython",
    "version": 3
   },
   "file_extension": ".py",
   "mimetype": "text/x-python",
   "name": "python",
   "nbconvert_exporter": "python",
   "pygments_lexer": "ipython3",
   "version": "3.8.8"
  }
 },
 "nbformat": 4,
 "nbformat_minor": 5
}
