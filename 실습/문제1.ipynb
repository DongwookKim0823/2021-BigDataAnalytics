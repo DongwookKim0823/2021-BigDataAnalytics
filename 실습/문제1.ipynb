{
 "cells": [
  {
   "cell_type": "markdown",
   "id": "2f3de38e",
   "metadata": {},
   "source": [
    "# 문제 1: IP 주소에서 지역정보 알아내기"
   ]
  },
  {
   "cell_type": "code",
   "execution_count": 1,
   "id": "ea2522a4",
   "metadata": {},
   "outputs": [],
   "source": [
    "url='http://api.ipstack.com/125.176.129.177?access_key=d7cdd0602f68e39767eba8a0e245e849'"
   ]
  },
  {
   "cell_type": "code",
   "execution_count": 2,
   "id": "14872b91",
   "metadata": {},
   "outputs": [],
   "source": [
    "import requests\n",
    "\n",
    "r=requests.get(url)"
   ]
  },
  {
   "cell_type": "code",
   "execution_count": 3,
   "id": "4fef703d",
   "metadata": {},
   "outputs": [],
   "source": [
    "import json\n",
    "geo=json.loads(r.text)"
   ]
  },
  {
   "cell_type": "code",
   "execution_count": 4,
   "id": "883fe647",
   "metadata": {},
   "outputs": [
    {
     "name": "stdout",
     "output_type": "stream",
     "text": [
      "<class 'dict'>\n"
     ]
    }
   ],
   "source": [
    "print (type(geo))"
   ]
  },
  {
   "cell_type": "code",
   "execution_count": 5,
   "id": "5121aae9",
   "metadata": {},
   "outputs": [
    {
     "name": "stdout",
     "output_type": "stream",
     "text": [
      "{'ip': '125.176.129.177', 'type': 'ipv4', 'continent_code': 'AS', 'continent_name': 'Asia', 'country_code': 'KR', 'country_name': 'South Korea', 'region_code': '11', 'region_name': 'Seoul', 'city': 'Seoul', 'zip': '100-011', 'latitude': 37.56100082397461, 'longitude': 126.98265075683594, 'location': {'geoname_id': 1835848, 'capital': 'Seoul', 'languages': [{'code': 'ko', 'name': 'Korean', 'native': '한국어'}], 'country_flag': 'https://assets.ipstack.com/flags/kr.svg', 'country_flag_emoji': '🇰🇷', 'country_flag_emoji_unicode': 'U+1F1F0 U+1F1F7', 'calling_code': '82', 'is_eu': False}}\n"
     ]
    }
   ],
   "source": [
    "print (geo)"
   ]
  },
  {
   "cell_type": "code",
   "execution_count": 6,
   "id": "eca44db4",
   "metadata": {},
   "outputs": [
    {
     "data": {
      "text/plain": [
       "'125.176.129.177'"
      ]
     },
     "execution_count": 6,
     "metadata": {},
     "output_type": "execute_result"
    }
   ],
   "source": [
    "geo.get('ip')"
   ]
  },
  {
   "cell_type": "code",
   "execution_count": 7,
   "id": "1f95c67a",
   "metadata": {},
   "outputs": [
    {
     "data": {
      "text/plain": [
       "'125.176.129.177'"
      ]
     },
     "execution_count": 7,
     "metadata": {},
     "output_type": "execute_result"
    }
   ],
   "source": [
    "geo['ip']"
   ]
  },
  {
   "cell_type": "code",
   "execution_count": 8,
   "id": "c44f9db5",
   "metadata": {},
   "outputs": [
    {
     "name": "stdout",
     "output_type": "stream",
     "text": [
      "ip \t:  125.176.129.177\n",
      "type \t:  ipv4\n",
      "continent_code \t:  AS\n",
      "continent_name \t:  Asia\n",
      "country_code \t:  KR\n",
      "country_name \t:  South Korea\n",
      "region_code \t:  11\n",
      "region_name \t:  Seoul\n",
      "city \t:  Seoul\n",
      "zip \t:  100-011\n",
      "latitude \t:  37.56100082397461\n",
      "longitude \t:  126.98265075683594\n",
      "location \t:  {'geoname_id': 1835848, 'capital': 'Seoul', 'languages': [{'code': 'ko', 'name': 'Korean', 'native': '한국어'}], 'country_flag': 'https://assets.ipstack.com/flags/kr.svg', 'country_flag_emoji': '🇰🇷', 'country_flag_emoji_unicode': 'U+1F1F0 U+1F1F7', 'calling_code': '82', 'is_eu': False}\n"
     ]
    }
   ],
   "source": [
    "for k,v in geo.items():\n",
    "    print (k,\"\\t: \",v)"
   ]
  },
  {
   "cell_type": "markdown",
   "id": "6d4623b1",
   "metadata": {},
   "source": [
    "### 일괄실행"
   ]
  },
  {
   "cell_type": "code",
   "execution_count": 9,
   "id": "324964de",
   "metadata": {},
   "outputs": [
    {
     "name": "stdout",
     "output_type": "stream",
     "text": [
      "ip \t:  125.176.129.177\n",
      "type \t:  ipv4\n",
      "continent_code \t:  AS\n",
      "continent_name \t:  Asia\n",
      "country_code \t:  KR\n",
      "country_name \t:  South Korea\n",
      "region_code \t:  11\n",
      "region_name \t:  Seoul\n",
      "city \t:  Seoul\n",
      "zip \t:  100-011\n",
      "latitude \t:  37.56100082397461\n",
      "longitude \t:  126.98265075683594\n",
      "location \t:  {'geoname_id': 1835848, 'capital': 'Seoul', 'languages': [{'code': 'ko', 'name': 'Korean', 'native': '한국어'}], 'country_flag': 'https://assets.ipstack.com/flags/kr.svg', 'country_flag_emoji': '🇰🇷', 'country_flag_emoji_unicode': 'U+1F1F0 U+1F1F7', 'calling_code': '82', 'is_eu': False}\n"
     ]
    }
   ],
   "source": [
    "import json\n",
    "import requests\n",
    "\n",
    "url='http://api.ipstack.com/125.176.129.177?access_key=d7cdd0602f68e39767eba8a0e245e849'\n",
    "r=requests.get(url)\n",
    "geo = json.loads(r.text)\n",
    "for k,v in geo.items():\n",
    "    print (k,\"\\t: \",v)"
   ]
  }
 ],
 "metadata": {
  "kernelspec": {
   "display_name": "Python 3",
   "language": "python",
   "name": "python3"
  },
  "language_info": {
   "codemirror_mode": {
    "name": "ipython",
    "version": 3
   },
   "file_extension": ".py",
   "mimetype": "text/x-python",
   "name": "python",
   "nbconvert_exporter": "python",
   "pygments_lexer": "ipython3",
   "version": "3.8.8"
  }
 },
 "nbformat": 4,
 "nbformat_minor": 5
}
