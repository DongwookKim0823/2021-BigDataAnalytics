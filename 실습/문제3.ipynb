{
 "cells": [
  {
   "cell_type": "markdown",
   "id": "b33f61c6",
   "metadata": {},
   "source": [
    "# 문제 3: 행정동별 서울생활인구 (단기체류 외국인)"
   ]
  },
  {
   "cell_type": "markdown",
   "id": "a4519810",
   "metadata": {},
   "source": [
    "### 인증키"
   ]
  },
  {
   "cell_type": "code",
   "execution_count": 1,
   "id": "593a62aa",
   "metadata": {},
   "outputs": [],
   "source": [
    "import os\n",
    "import src.mylib\n",
    "keyPath=os.path.join(os.getcwd(), 'src', 'key.properties')\n",
    "key=src.mylib.getKey(keyPath)\n",
    "KEY=str(key['dataseoul'])"
   ]
  },
  {
   "cell_type": "markdown",
   "id": "567dcc74",
   "metadata": {},
   "source": [
    "### 요청 인자"
   ]
  },
  {
   "cell_type": "code",
   "execution_count": 2,
   "id": "663e6646",
   "metadata": {},
   "outputs": [
    {
     "name": "stdout",
     "output_type": "stream",
     "text": [
      "/xml/SPOP_FORN_TEMP_RESD_DONG/1/5/20200617\n"
     ]
    }
   ],
   "source": [
    "TYPE='xml'\n",
    "SERVICE='SPOP_FORN_TEMP_RESD_DONG'\n",
    "START_INDEX=str(1)\n",
    "END_INDEX=str(5)\n",
    "STDR_DE_ID=str(20200617)\n",
    "\n",
    "#params=os.path.join(KEY,TYPE,SERVICE,START_INDEX,END_INDEX)\n",
    "params=\"/\".join([KEY,TYPE,SERVICE,START_INDEX,END_INDEX,STDR_DE_ID])\n",
    "\n",
    "print (params[30:])"
   ]
  },
  {
   "cell_type": "markdown",
   "id": "595ab742",
   "metadata": {},
   "source": [
    "### url 만들기"
   ]
  },
  {
   "cell_type": "code",
   "execution_count": 3,
   "id": "e1050b44",
   "metadata": {},
   "outputs": [
    {
     "name": "stdout",
     "output_type": "stream",
     "text": [
      "http://openapi.seoul.go.kr:8088/6f4579784d6b647739305841767874/xml/SPOP_FORN_TEMP_RESD_DONG/1/5/20200617\n"
     ]
    }
   ],
   "source": [
    "import urllib\n",
    "_url='http://openapi.seoul.go.kr:8088/'\n",
    "url=urllib.parse.urljoin(_url,params)\n",
    "print(url)"
   ]
  },
  {
   "cell_type": "markdown",
   "id": "c8134618",
   "metadata": {},
   "source": [
    "### url 호출"
   ]
  },
  {
   "cell_type": "code",
   "execution_count": 4,
   "id": "82252dfd",
   "metadata": {},
   "outputs": [
    {
     "name": "stdout",
     "output_type": "stream",
     "text": [
      "<?xml version=\"1.0\" encoding=\"UTF-8\"?>\n",
      "<SPOP_FORN_TEMP_RESD_DONG>\n",
      "<list_total_count>9849</list_total_count>\n",
      "<RESULT>\n",
      "<CODE>INFO-000</CODE>\n",
      "<MESSAGE>정상 처리되었습니다</MESSAGE>\n",
      "</RESULT>\n",
      "<row>\n",
      "<STDR_DE_ID>20200617</STDR_DE_ID>\n",
      "<TMZON_PD_SE>00</TMZON_PD_SE>\n",
      "<ADSTRD_CODE_SE>11110515</ADSTRD_CODE_SE>\n",
      "<TOT_LVPOP_CO>248.866</TOT_LVPOP_CO>\n",
      "<CHINA_STAYPOP_CO>86.4335</CHINA_STAYPOP_CO>\n",
      "<ETC_STAYPOP_CO>162.432</ETC_STAYPOP_CO>\n",
      "</row>\n",
      "<row>\n",
      "<STDR_DE_ID>20200617</STDR_DE_ID>\n",
      "<TMZON_PD_SE>00</TMZON_PD_SE>\n",
      "<ADSTRD_CODE_SE>11110530</ADSTRD_CODE_SE>\n",
      "<TOT_LVPOP_CO>71.2628</TOT_LVPOP_CO>\n",
      "<CHINA_STAYPOP_CO>0</CHINA_STAYPOP_CO>\n",
      "<ETC_STAYPOP_CO>71.2627</ETC_STAYPOP_CO>\n",
      "</row>\n",
      "<row>\n",
      "<STDR_DE_ID>20200617</STDR_DE_ID>\n",
      "<TMZON_PD_SE>00</TMZON_PD_SE>\n",
      "<ADSTRD_CODE_SE>11110540</ADSTRD_CODE_SE>\n",
      "<TOT_LVPOP_CO>150.1777</TOT_LVPOP_CO>\n",
      "<CHINA_STAYPOP_CO>86.2246</CHINA_STAYPOP_CO>\n",
      "<ETC_STAYPOP_CO>63.9532</ETC_STAYPOP_CO>\n",
      "</row>\n",
      "<row>\n",
      "<STDR_DE_ID>20200617</STDR_DE_ID>\n",
      "<TMZON_PD_SE>00</TMZON_PD_SE>\n",
      "<ADSTRD_CODE_SE>11110550</ADSTRD_CODE_SE>\n",
      "<TOT_LVPOP_CO>136.7137</TOT_LVPOP_CO>\n",
      "<CHINA_STAYPOP_CO>79.3833</CHINA_STAYPOP_CO>\n",
      "<ETC_STAYPOP_CO>57.3305</ETC_STAYPOP_CO>\n",
      "</row>\n",
      "<row>\n",
      "<STDR_DE_ID>20200617</STDR_DE_ID>\n",
      "<TMZON_PD_SE>00</TMZON_PD_SE>\n",
      "<ADSTRD_CODE_SE>11110560</ADSTRD_CODE_SE>\n",
      "<TOT_LVPOP_CO>174.824</TOT_LVPOP_CO>\n",
      "<CHINA_STAYPOP_CO>0</CHINA_STAYPOP_CO>\n",
      "<ETC_STAYPOP_CO>174.8241</ETC_STAYPOP_CO>\n",
      "</row>\n",
      "</SPOP_FORN_TEMP_RESD_DONG>\n",
      "\n"
     ]
    }
   ],
   "source": [
    "import requests\n",
    "data=requests.get(url).text\n",
    "print (data)"
   ]
  },
  {
   "cell_type": "markdown",
   "id": "213c8416",
   "metadata": {},
   "source": [
    "### XML 파싱"
   ]
  },
  {
   "cell_type": "code",
   "execution_count": 5,
   "id": "12ca07a5",
   "metadata": {},
   "outputs": [
    {
     "name": "stdout",
     "output_type": "stream",
     "text": [
      "248.866\n",
      "71.2628\n",
      "150.1777\n",
      "136.7137\n",
      "174.824\n"
     ]
    }
   ],
   "source": [
    "import lxml\n",
    "import lxml.etree\n",
    "\n",
    "tree=lxml.etree.fromstring(data.encode('utf-8'))\n",
    "nodes=tree.xpath('//TOT_LVPOP_CO')\n",
    "for node in nodes:\n",
    "    print (node.text)"
   ]
  },
  {
   "cell_type": "markdown",
   "id": "eb1b31d6",
   "metadata": {},
   "source": [
    "### 일괄 실행"
   ]
  },
  {
   "cell_type": "code",
   "execution_count": 6,
   "id": "a984aa4e",
   "metadata": {},
   "outputs": [
    {
     "name": "stdout",
     "output_type": "stream",
     "text": [
      "Overwriting src/ds_open_foreigners_xml.py\n"
     ]
    }
   ],
   "source": [
    "%%writefile src/ds_open_foreigners_xml.py\n",
    "import os\n",
    "import urllib\n",
    "import requests\n",
    "import lxml\n",
    "import lxml.etree\n",
    "import mylib #from src import mylib\n",
    "\n",
    "def doIt():\n",
    "    keyPath=os.path.join(os.getcwd(), 'src', 'key.properties')\n",
    "    key=mylib.getKey(keyPath)\n",
    "    KEY=str(key['dataseoul'])\n",
    "    TYPE='xml'\n",
    "    SERVICE='SPOP_FORN_TEMP_RESD_DONG'\n",
    "    START_INDEX=str(1)\n",
    "    END_INDEX=str(10)\n",
    "    STDR_DE_ID=str(20200617)\n",
    "    #params=\"/\".join([KEY,TYPE,SERVICE,START_INDEX,END_INDEX,STDR_DE_ID])\n",
    "\n",
    "    #_url='http://openAPI.seoul.go.kr:8088/'\n",
    "    _url='http://openAPI.seoul.go.kr:8088' # NOTE: the slash at the end removed\n",
    "    #url=urllib.parse.urljoin(_url,params)\n",
    "    url=\"/\".join([_url,KEY,TYPE,SERVICE,START_INDEX,END_INDEX,STDR_DE_ID])\n",
    "    data=requests.get(url).text\n",
    "    #tree=lxml.etree.parse(StringIO.StringIO(data.encode('utf-8')))\n",
    "    tree=lxml.etree.fromstring(data.encode('utf-8'))\n",
    "    nodes=tree.xpath('//TOT_LVPOP_CO')\n",
    "    for node in nodes:\n",
    "        print (node.text)\n",
    "\n",
    "if __name__ == \"__main__\":\n",
    "    doIt()"
   ]
  },
  {
   "cell_type": "code",
   "execution_count": 7,
   "id": "19a4ec2b",
   "metadata": {},
   "outputs": [
    {
     "name": "stdout",
     "output_type": "stream",
     "text": [
      "248.866\n",
      "71.2628\n",
      "150.1777\n",
      "136.7137\n",
      "174.824\n",
      "0.4833\n",
      "0.2163\n",
      "35.2093\n",
      "756.5433\n",
      "87.6117\n"
     ]
    }
   ],
   "source": [
    "!python src/ds_open_foreigners_xml.py"
   ]
  }
 ],
 "metadata": {
  "kernelspec": {
   "display_name": "Python 3",
   "language": "python",
   "name": "python3"
  },
  "language_info": {
   "codemirror_mode": {
    "name": "ipython",
    "version": 3
   },
   "file_extension": ".py",
   "mimetype": "text/x-python",
   "name": "python",
   "nbconvert_exporter": "python",
   "pygments_lexer": "ipython3",
   "version": "3.8.8"
  }
 },
 "nbformat": 4,
 "nbformat_minor": 5
}
