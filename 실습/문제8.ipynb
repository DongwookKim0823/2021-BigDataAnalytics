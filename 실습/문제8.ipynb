{
 "cells": [
  {
   "cell_type": "markdown",
   "id": "09d5a053",
   "metadata": {},
   "source": [
    "# 문제 8: 서울시 골목상권 분석"
   ]
  },
  {
   "cell_type": "markdown",
   "id": "6807f622",
   "metadata": {},
   "source": [
    "### 인증키"
   ]
  },
  {
   "cell_type": "code",
   "execution_count": 1,
   "id": "05bc8d7c",
   "metadata": {},
   "outputs": [],
   "source": [
    "import os\n",
    "from src import mylib # Ok: import src.mylib\n",
    "\n",
    "keyPath=os.path.join(os.getcwd(), 'src', 'key.properties')\n",
    "key=mylib.getKey(keyPath)\n",
    "# (1) make params with resource IDs\n",
    "KEY=key['dataseoul'] #'73725...847'"
   ]
  },
  {
   "cell_type": "markdown",
   "id": "33a0cf02",
   "metadata": {},
   "source": [
    "### 요청인자"
   ]
  },
  {
   "cell_type": "code",
   "execution_count": 2,
   "id": "369e0d8c",
   "metadata": {},
   "outputs": [],
   "source": [
    "import os\n",
    "\n",
    "TYPE='json'\n",
    "SERVICE='VwsmTrdarFlpopQq' #OLD: SERVICE='InfoTrdarFlpop'\n",
    "START_INDEX=str(1)\n",
    "END_INDEX=str(10)\n",
    "STDR_YM_CD=str(2017)\n",
    "params=os.path.join(KEY,TYPE,SERVICE,START_INDEX,END_INDEX,STDR_YM_CD) # '73725...847/json/VwsmTrdarFlpopQq/1/10/2017'"
   ]
  },
  {
   "cell_type": "markdown",
   "id": "fa240c32",
   "metadata": {},
   "source": [
    "### url"
   ]
  },
  {
   "cell_type": "code",
   "execution_count": 3,
   "id": "d88edca5",
   "metadata": {},
   "outputs": [],
   "source": [
    "import urllib.parse\n",
    "\n",
    "_url='http://openAPI.seoul.go.kr:8088/'\n",
    "url=urllib.parse.urljoin(_url,params)"
   ]
  },
  {
   "cell_type": "code",
   "execution_count": 4,
   "id": "6569e733",
   "metadata": {},
   "outputs": [
    {
     "name": "stdout",
     "output_type": "stream",
     "text": [
      "http://openAPI.seoul.go.kr:8088/6f4579784d6b647739305841767874\\json\\VwsmTrdarFlpopQq\\1\\10\\2017\n"
     ]
    }
   ],
   "source": [
    "print(url)"
   ]
  },
  {
   "cell_type": "markdown",
   "id": "57714348",
   "metadata": {},
   "source": [
    "### 상권 데이터"
   ]
  },
  {
   "cell_type": "code",
   "execution_count": null,
   "id": "83988977",
   "metadata": {},
   "outputs": [],
   "source": [
    "import requests\n",
    "r=requests.get(url)\n",
    "trade=r.json()"
   ]
  },
  {
   "cell_type": "code",
   "execution_count": null,
   "id": "22543d35",
   "metadata": {},
   "outputs": [],
   "source": [
    "print (trade)"
   ]
  },
  {
   "cell_type": "code",
   "execution_count": null,
   "id": "7286af34",
   "metadata": {},
   "outputs": [],
   "source": [
    "for e in trade['VwsmTrdarFlpopQq']['row']:\n",
    "    print (e['TRDAR_CD'], e['TRDAR_CD_NM'], e['TOT_FLPOP_CO'], e['ML_FLPOP_CO'], e['FML_FLPOP_CO'])"
   ]
  },
  {
   "cell_type": "markdown",
   "id": "a5380e7d",
   "metadata": {},
   "source": [
    "### 일괄 실행"
   ]
  },
  {
   "cell_type": "code",
   "execution_count": null,
   "id": "fc5fae9a",
   "metadata": {},
   "outputs": [],
   "source": [
    "%%writefile src/ds_open_trade_json.py\n",
    "#!/usr/bin/env python\n",
    "# coding: utf-8\n",
    "import os\n",
    "import requests\n",
    "import urllib\n",
    "from src import mylib\n",
    "\n",
    "def doIt():\n",
    "    keyPath=os.path.join(os.getcwd(), 'src', 'key.properties')\n",
    "    key=mylib.getKey(keyPath)\n",
    "    # (1) make params with resource IDs\n",
    "    KEY=key['dataseoul']\n",
    "    TYPE='json'\n",
    "    SERVICE='VwsmTrdarFlpopQq'\n",
    "    START_INDEX=str(1)\n",
    "    END_INDEX=str(10)\n",
    "    STDR_YM_CD=str(2017)\n",
    "    params=os.path.join(KEY,TYPE,SERVICE,START_INDEX,END_INDEX,STDR_YM_CD)\n",
    "    # (2) make a full url\n",
    "    _url='http://openAPI.seoul.go.kr:8088'\n",
    "    #url=urllib.parse.urljoin(_url,params)\n",
    "    url=\"/\".join([_url,params])\n",
    "    # (3) get data\n",
    "    r=requests.get(url)\n",
    "    trade=r.json()\n",
    "    for e in trade['VwsmTrdarFlpopQq']['row']:\n",
    "        #print(e['TRDAR_CD_NM'])\n",
    "        print (e['TRDAR_CD'], e['TRDAR_CD_NM'], e['TOT_FLPOP_CO'], e['ML_FLPOP_CO'], e['FML_FLPOP_CO'])\n",
    "    #for e in stations['SearchSTNBySubwayLineService']['row']:\n",
    "        #print e['STATION_CD'], e['STATION_NM'], e['FR_CODE'], e['LINE_NUM']\n",
    "\n",
    "if __name__ == \"__main__\":\n",
    "    doIt()"
   ]
  }
 ],
 "metadata": {
  "kernelspec": {
   "display_name": "Python 3",
   "language": "python",
   "name": "python3"
  },
  "language_info": {
   "codemirror_mode": {
    "name": "ipython",
    "version": 3
   },
   "file_extension": ".py",
   "mimetype": "text/x-python",
   "name": "python",
   "nbconvert_exporter": "python",
   "pygments_lexer": "ipython3",
   "version": "3.8.8"
  }
 },
 "nbformat": 4,
 "nbformat_minor": 5
}
